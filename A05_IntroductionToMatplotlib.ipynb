{
 "cells": [
  {
   "cell_type": "markdown",
   "metadata": {},
   "source": [
    "# Introduction to matplotlib\n",
    "\n",
    "Inside jupyter notebook, in order for your plots to be shown insert the following immediately after you import matplotlib \n",
    "```\n",
    "%matplotlib inline\n",
    "```\n",
    "\n",
    "Links:\n",
    "* https://matplotlib.org/stable/\n",
    "  - lots of useful resources and references\n",
    "  - https://matplotlib.org/stable/tutorials/index.html --- basic, pyplot, etc.\n",
    "  - https://matplotlib.org/stable/gallery/index.html\n",
    "    - start from something close to what you want to accomplish\n",
    "  - https://matplotlib.org/stable/api/pyplot_summary.html\n",
    "    - pyplot command reference\n",
    "* http://www.labri.fr/perso/nrougier/teaching/matplotlib/\n",
    "  - a wonderful tutorial going from basics to advanced with some clean looking plots, lots of examples, tons of additional material, and some quick reference material at the end.  \n",
    "\n",
    "Simple example"
   ]
  },
  {
   "cell_type": "code",
   "execution_count": null,
   "metadata": {},
   "outputs": [],
   "source": [
    "import matplotlib.pyplot as plt\n",
    "%matplotlib inline\n",
    "plt.plot([1,2,3,4,5], [1,4,9,16,25]);"
   ]
  },
  {
   "cell_type": "markdown",
   "metadata": {},
   "source": [
    "Do `?plt.plot`"
   ]
  },
  {
   "cell_type": "code",
   "execution_count": null,
   "metadata": {},
   "outputs": [],
   "source": []
  },
  {
   "cell_type": "markdown",
   "metadata": {},
   "source": [
    "x is list of x-coordinate values and y1 and y2 are lists of values measured at each x-value.\n",
    "\n",
    "on the same graph, plot both y1 and y2 as a function of x using a blue solid line with filled circles to mark the points for y1, and a red line with asterisks for y2."
   ]
  },
  {
   "cell_type": "code",
   "execution_count": null,
   "metadata": {},
   "outputs": [],
   "source": [
    "x = [1,2,3,4,5]\n",
    "y1 = [1,4,9,16,25]\n",
    "y2 = [1,-4,9,-16,25]"
   ]
  },
  {
   "cell_type": "code",
   "execution_count": null,
   "metadata": {},
   "outputs": [],
   "source": []
  },
  {
   "cell_type": "markdown",
   "metadata": {},
   "source": [
    "Set x to be a list of integers -10 to 10 inclusive\n",
    "\n",
    "Set y1 to be the list of values such that `y1[i] = x[i]**2`\n",
    "\n",
    "Set y2 to be the list of values such that `y2[i] = -(x[i]-1)**2`\n",
    "\n",
    "Set y3 to be the list of values such that `y3[i] = (x[i]+1)**2`\n",
    "\n",
    "Plot y1, y2 and y3 as functions of x using diffent line styles and points and colors for each line."
   ]
  },
  {
   "cell_type": "code",
   "execution_count": null,
   "metadata": {},
   "outputs": [],
   "source": []
  },
  {
   "cell_type": "markdown",
   "metadata": {},
   "source": [
    "Read through this example about making a \"pretty\" plot ... can you improve it?  Look online for more examples."
   ]
  },
  {
   "cell_type": "code",
   "execution_count": null,
   "metadata": {},
   "outputs": [],
   "source": [
    "# From http://python3.codes/easy-graph-plotting-with-pyplot/\n",
    "import matplotlib.pyplot as plt\n",
    "from math import *\n",
    "%matplotlib inline\n",
    "\n",
    "npoints=50\n",
    "x = [x*2*pi/npoints for x in range(npoints+1)]\n",
    "y1 = [sin(t) for t in x]\n",
    "y2 = [cos(t) for t in x]\n",
    " \n",
    "plt.figure(figsize=(10, 5))\n",
    "plt.title('Sine & Cosine')\n",
    "plt.xlabel('t (radians)')\n",
    "plt.ylabel('red: sin (t), blue: cos (t)')\n",
    "plt.grid(True)\n",
    "plt.xlim(0,2*pi)\n",
    "plt.ylim(-1.1,1.1)\n",
    " \n",
    "plt.plot(x, y1, color=\"red\", label=\"sine\")\n",
    "plt.plot(x, y2, color=\"blue\", label=\"cosine\")\n",
    "plt.legend();"
   ]
  },
  {
   "cell_type": "markdown",
   "metadata": {},
   "source": [
    "Ditto"
   ]
  },
  {
   "cell_type": "code",
   "execution_count": null,
   "metadata": {},
   "outputs": [],
   "source": [
    "# http://mple.m-artwork.eu/tutorial\n",
    "#define plot size in inches (width, height) & resolution(DPI)\n",
    "fig = plt.figure(figsize=(4, 5), dpi=100)\n",
    "\n",
    "#define font size\n",
    "plt.rc(\"font\", size=14)\n",
    "\n",
    "#define some data\n",
    "x = [1,2,3,4]\n",
    "y = [20, 21, 20.5, 20.8]\n",
    "\n",
    "#error data\n",
    "y_error = [0.12, 0.13, 0.2, 0.1]\n",
    "\n",
    "#plot data\n",
    "plt.plot(x, y, linestyle=\"dashed\", marker=\"o\", color=\"green\")\n",
    "\n",
    "#plot only errorbars\n",
    "plt.errorbar(x, y, yerr=y_error, linestyle=\"None\", marker=\"None\", color=\"green\")\n",
    "\n",
    "#configure  X axes\n",
    "plt.xlim(0.5,4.5)\n",
    "plt.xticks([1,2,3,4])\n",
    "\n",
    "#configure  Y axes\n",
    "plt.ylim(19.8,21.2)\n",
    "plt.yticks([20, 21, 20.5, 20.8])\n",
    "\n",
    "#labels\n",
    "plt.xlabel(\"this is X\")\n",
    "plt.ylabel(\"this is Y\", size=10)\n",
    "\n",
    "#title\n",
    "plt.title(\"Simple plot\", size=20)\n",
    "\n",
    "#adjust plot\n",
    "plt.subplots_adjust(left=0.19)"
   ]
  },
  {
   "cell_type": "code",
   "execution_count": null,
   "metadata": {},
   "outputs": [],
   "source": []
  },
  {
   "cell_type": "markdown",
   "metadata": {},
   "source": [
    "Pretend the following data came from a chemist who is measuring the product of a chemical reaction as a function of time\n",
    "* times constains the time at which each measurement was taken (the independent variable)\n",
    "* product is the amout of product measured (the dependent variable)\n",
    "\n",
    "Make a plot of product vs time labeling the axes and adding a title to the plot"
   ]
  },
  {
   "cell_type": "code",
   "execution_count": null,
   "metadata": {},
   "outputs": [],
   "source": [
    "import math\n",
    "times = [t*0.01 for t in range(100)]\n",
    "product = [1.0 - math.exp(-t*4.7) for t in times]"
   ]
  },
  {
   "cell_type": "code",
   "execution_count": null,
   "metadata": {},
   "outputs": [],
   "source": []
  },
  {
   "cell_type": "code",
   "execution_count": null,
   "metadata": {},
   "outputs": [],
   "source": []
  }
 ],
 "metadata": {
  "kernelspec": {
   "display_name": "Python 3 (ipykernel)",
   "language": "python",
   "name": "python3"
  },
  "language_info": {
   "codemirror_mode": {
    "name": "ipython",
    "version": 3
   },
   "file_extension": ".py",
   "mimetype": "text/x-python",
   "name": "python",
   "nbconvert_exporter": "python",
   "pygments_lexer": "ipython3",
   "version": "3.9.7"
  }
 },
 "nbformat": 4,
 "nbformat_minor": 1
}
