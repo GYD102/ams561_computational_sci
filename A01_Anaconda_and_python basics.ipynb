{
 "cells": [
  {
   "cell_type": "markdown",
   "metadata": {},
   "source": [
    "# An introduction to Data and Computing for Scientists and Engineers\n",
    "\n",
    "## Outline:\n",
    "* Objectives and big picture \n",
    "* Introductions\n",
    "* Overall syllabus and schedule\n",
    "* Grading - homeworks and projects\n",
    "* Next three weeks --- Python in the Jupyter notebook using Anaconda\n",
    "\n",
    "## Heads up\n",
    "Please be sure to use all of the class resources available\n",
    "* We've tried to schedule the instructor/TA office hours and (informal) recitation to cover most time zones, and failing that you can make an appointment with any of us, or email us directly.\n",
    "* Use the BlackBoard discussion group liberally, and don't be shy about either asking or answering questions.\n",
    "\n",
    "Learning to program for the first time can (and should) be lots of fun, but it can also be pretty intense. You are literally learning a new language and a new way of algorithmic thinking (though, apparently, when programming you [don't use the same parts of your brain](https://news.mit.edu/2020/brain-reading-computer-code-1215) as you use for human language).\n",
    "\n",
    "If you are finding keeping up in class or keeping up with the homework is taking more time than you think is reasonable please reach out to us.  Everyone progresses at a different pace and the point of this class is to enable you to employ Python and associated tools in your own research and future career, so it's worth taking our time. \n",
    "\n",
    "\n",
    "## Class materials:\n",
    "* All class materials including assignments, grades etc. will be in [Black Board (https://blackboard.stonybrook.edu/webapps/login/) \n",
    "\n",
    "\n",
    "## For the next three weeks, as we learn and start to use Python, you **need** to be \n",
    "* reading ahead\n",
    "* playing/practicing with code\n",
    "* reading the documentation\n",
    "* exploring online resources\n",
    "* interacting with each other (team programming is fun)\n",
    "* asking lots of questions in class, in office hours, on the discusison board, and of each other\n",
    "\n",
    "## Installing Anaconda\n",
    "\n",
    "* Go to the [Anaconda download page](https://www.anaconda.com/products/individual)\n",
    "  * Pick the right version for your operating system if it is not automatically correctly selected.\n",
    "  * You do not need to sign in or make an account (unless you want to)\n",
    "* Download and then install it --- you should **not** need administrator (or root) access\n",
    "  * More detail on installation is [here](https://docs.anaconda.com/anaconda/install/)\n",
    "* Make a new folder (somewhere sensible you can find again!) to hold your notebooks\n",
    "\n",
    "\n",
    "We will be using the Jupyter notebook for most of class, but there are lots and lots of other things that Anacoda provides.  To see (nearly) everything, start Anacoda Navigator\n",
    "  * [Getting started instructions](http://docs.anaconda.com/anaconda/user-guide/getting-started/)\n",
    "\n",
    "You can start the notebook from within the navigator, but you can also start it more directly\n",
    "* Under Linux or MacOS, open a terminal, change into the folder (or a parent of it) with your notebooks, then type the command `jupyter notebook`\n",
    "* Under Windows, under the `Start` menu follow `All programs`, `Anaconda (32 or 64 bit)`, `Jupyter Notebook`\n",
    "\n",
    "## Python Documentation\n",
    "\n",
    "* Anaconda now provides nearly all the documentation you need under its `Learning` tab, but it is valuable to find the resources you need more directly.\n",
    "* https://docs.python.org/3/index.html\n",
    "* Key documents are the \n",
    "  * Tutorial: https://docs.python.org/3/tutorial/\n",
    "  * Language reference: https://docs.python.org/3/reference/index.html\n",
    "  * Library reference: https://docs.python.org/3/library/index.html\n",
    "\n",
    "## Beginning the python tutorial\n",
    "\n",
    "\n",
    "Go to https://docs.python.org/3/tutorial/\n",
    "\n",
    "We will start at section 3 and will use the below to augment the presentation in the tutorial."
   ]
  },
  {
   "cell_type": "code",
   "execution_count": 1,
   "metadata": {
    "scrolled": true
   },
   "outputs": [
    {
     "name": "stdout",
     "output_type": "stream",
     "text": [
      "Hello World\n"
     ]
    }
   ],
   "source": [
    "print(\"Hello World\")"
   ]
  },
  {
   "cell_type": "markdown",
   "metadata": {},
   "source": [
    "Explore printing *'Hello world!'* and other things in different ways"
   ]
  },
  {
   "cell_type": "code",
   "execution_count": 18,
   "metadata": {
    "scrolled": true
   },
   "outputs": [
    {
     "name": "stdout",
     "output_type": "stream",
     "text": [
      "Hello World\n",
      "Goodbye\n"
     ]
    }
   ],
   "source": [
    "print(\"Hello\" + \" World\")\n",
    "print(\"Goodbye\")\n",
    "x = (\"Testing for evil\")"
   ]
  },
  {
   "cell_type": "markdown",
   "metadata": {},
   "source": [
    "Explore using Python as a simple calculator, and comments"
   ]
  },
  {
   "cell_type": "code",
   "execution_count": 24,
   "metadata": {
    "scrolled": true
   },
   "outputs": [
    {
     "name": "stdout",
     "output_type": "stream",
     "text": [
      "13\n",
      "Testing for evil\n",
      "3.1\n"
     ]
    }
   ],
   "source": [
    "print(2 + 11)\n",
    "print(x)\n",
    "3 / 2\n",
    "5\n",
    "# this is a comment\n",
    "# by default, notebook cells will automatically output(? print?)\n",
    "# only the output created by last line IFF IT CREATES AN OUTPUT\n",
    "# \"5\" will be output without the below line of code\n",
    "print(1.1 + 2)\n",
    "# but with this line of code, \"5\" doesn't get output"
   ]
  },
  {
   "cell_type": "markdown",
   "metadata": {},
   "source": [
    "Creating, saving, renaming and reverting notebooks\n",
    "\n",
    "?, help function, tab word completion\n",
    "\n",
    "Numerical data types: integers and floats (also complex, decimal, rational, ...)"
   ]
  },
  {
   "cell_type": "code",
   "execution_count": 21,
   "metadata": {
    "scrolled": true
   },
   "outputs": [
    {
     "name": "stdout",
     "output_type": "stream",
     "text": [
      "Help on built-in function print in module builtins:\n",
      "\n",
      "print(...)\n",
      "    print(value, ..., sep=' ', end='\\n', file=sys.stdout, flush=False)\n",
      "    \n",
      "    Prints the values to a stream, or to sys.stdout by default.\n",
      "    Optional keyword arguments:\n",
      "    file:  a file-like object (stream); defaults to the current sys.stdout.\n",
      "    sep:   string inserted between values, default a space.\n",
      "    end:   string appended after the last value, default a newline.\n",
      "    flush: whether to forcibly flush the stream.\n",
      "\n"
     ]
    }
   ],
   "source": [
    "?print\n",
    "help(print)"
   ]
  },
  {
   "cell_type": "markdown",
   "metadata": {},
   "source": [
    "### Variables --- names you associate with values you want to remember for future use\n",
    "\n",
    "simple examples for you to code (from https://www.programiz.com/python-programming/examples)\n",
    "\n",
    "* area of a triangle (`base*height/2`)\n",
    "* area (`pi*r*r`) and circumference (`2*pi*r`) of a circle\n",
    "* convert units `celsius = (fahrenheit - 32)/1.8` or  `f = c*1.8+32`\n",
    "* what happens when you refer to a variable that does not exist\n",
    "  - what might be common causes of this?\n",
    "* what happens when you do `1/0`?  or `1.0/0.0` or `10.0**1000.0`?\n",
    "* what happens when you do `10**1000`?"
   ]
  },
  {
   "cell_type": "code",
   "execution_count": 29,
   "metadata": {
    "scrolled": true
   },
   "outputs": [
    {
     "data": {
      "text/plain": [
       "1000.0"
      ]
     },
     "execution_count": 29,
     "metadata": {},
     "output_type": "execute_result"
    }
   ],
   "source": [
    "base = 100\n",
    "height = 20"
   ]
  },
  {
   "cell_type": "code",
   "execution_count": 34,
   "metadata": {
    "scrolled": true
   },
   "outputs": [
    {
     "name": "stdout",
     "output_type": "stream",
     "text": [
      "1000.0\n"
     ]
    }
   ],
   "source": [
    "area = base * height / 2\n",
    "print(area)\n",
    "# Environment gets wiped if notebook restarted."
   ]
  },
  {
   "cell_type": "code",
   "execution_count": null,
   "metadata": {},
   "outputs": [],
   "source": []
  },
  {
   "cell_type": "code",
   "execution_count": 33,
   "metadata": {
    "scrolled": true
   },
   "outputs": [
    {
     "ename": "OverflowError",
     "evalue": "(34, 'Result too large')",
     "output_type": "error",
     "traceback": [
      "\u001b[1;31m---------------------------------------------------------------------------\u001b[0m",
      "\u001b[1;31mOverflowError\u001b[0m                             Traceback (most recent call last)",
      "\u001b[1;32m~\\AppData\\Local\\Temp/ipykernel_4120/944805402.py\u001b[0m in \u001b[0;36m<module>\u001b[1;34m\u001b[0m\n\u001b[1;32m----> 1\u001b[1;33m \u001b[1;36m10.0\u001b[0m\u001b[1;33m**\u001b[0m\u001b[1;36m1000.0\u001b[0m\u001b[1;33m\u001b[0m\u001b[1;33m\u001b[0m\u001b[0m\n\u001b[0m",
      "\u001b[1;31mOverflowError\u001b[0m: (34, 'Result too large')"
     ]
    }
   ],
   "source": [
    "10.0**1000.0"
   ]
  },
  {
   "cell_type": "code",
   "execution_count": 31,
   "metadata": {
    "scrolled": true
   },
   "outputs": [
    {
     "data": {
      "text/plain": [
       "10000000000000000000000000000000000000000000000000000000000000000000000000000000000000000000000000000000000000000000000000000000000000000000000000000000000000000000000000000000000000000000000000000000000000000000000000000000000000000000000000000000000000000000000000000000000000000000000000000000000000000000000000000000000000000000000000000000000000000000000000000000000000000000000000000000000000000000000000000000000000000000000000000000000000000000000000000000000000000000000000000000000000000000000000000000000000000000000000000000000000000000000000000000000000000000000000000000000000000000000000000000000000000000000000000000000000000000000000000000000000000000000000000000000000000000000000000000000000000000000000000000000000000000000000000000000000000000000000000000000000000000000000000000000000000000000000000000000000000000000000000000000000000000000000000000000000000000000000000000000000000000000000000000000000000000000000000000000000000000000000000000000000000000000000000000000000000"
      ]
     },
     "execution_count": 31,
     "metadata": {},
     "output_type": "execute_result"
    }
   ],
   "source": [
    "10**1000"
   ]
  },
  {
   "cell_type": "markdown",
   "metadata": {},
   "source": [
    "## Operators,  precedence, and order of evaluation:\n",
    "\n",
    "What operations are there?  Go look in the language reference:\n",
    "* if you haven't bookmarked the link just google for python language reference, select 6.5 power operator, also relevant 6.6 thru 6.11)\n",
    "* evaluation order and operator precedence discussed in 6.16 and 6.17 , respectively\n",
    "\n",
    "Examples:\n",
    "\n",
    "* evaluating a quintic polynomial using `**`\n",
    "* manually computing min, max, mean and std-var of 3 numbers (1.0, 1.5, 2.3), and evaluate -1.0**0.5\n",
    "   "
   ]
  },
  {
   "cell_type": "code",
   "execution_count": 49,
   "metadata": {
    "scrolled": true
   },
   "outputs": [
    {
     "name": "stdout",
     "output_type": "stream",
     "text": [
      "9300\n"
     ]
    },
    {
     "data": {
      "text/plain": [
       "9300.0"
      ]
     },
     "execution_count": 49,
     "metadata": {},
     "output_type": "execute_result"
    }
   ],
   "source": [
    "x = 5\n",
    "print(3 * x**5 - 2 * x**2 - 25)\n",
    "3 * x**5 - 2 * x**2 - 25 / 1"
   ]
  },
  {
   "cell_type": "code",
   "execution_count": 46,
   "metadata": {},
   "outputs": [
    {
     "name": "stdout",
     "output_type": "stream",
     "text": [
      "1.0\n",
      "2.3\n",
      "1.5999999999999999\n"
     ]
    }
   ],
   "source": [
    "v = [1.0,1.5,2.3]\n",
    "\n",
    "print(min(v))\n",
    "print(max(v))\n",
    "print(sum(v)/len(v))"
   ]
  },
  {
   "cell_type": "code",
   "execution_count": 40,
   "metadata": {
    "scrolled": true
   },
   "outputs": [
    {
     "name": "stdout",
     "output_type": "stream",
     "text": [
      "2.0\n",
      "1.5\n",
      "2\n",
      "1\n"
     ]
    }
   ],
   "source": [
    "print(4/2)\n",
    "print(3/2)\n",
    "# This is a bit different from previous Python versions\n",
    "print(4//2)\n",
    "print(3//2)"
   ]
  },
  {
   "cell_type": "code",
   "execution_count": 43,
   "metadata": {
    "scrolled": true
   },
   "outputs": [
    {
     "name": "stdout",
     "output_type": "stream",
     "text": [
      "<class 'int'>\n"
     ]
    },
    {
     "data": {
      "text/plain": [
       "float"
      ]
     },
     "execution_count": 43,
     "metadata": {},
     "output_type": "execute_result"
    }
   ],
   "source": [
    "print(type(5))\n",
    "type(5.0)"
   ]
  },
  {
   "cell_type": "markdown",
   "metadata": {},
   "source": [
    "## Strings --- interacting with data and humans!\n",
    "* how to specify a string? `\"\"`, `''`, `\"\"\" \"\"\"\"`, `''' '''`, quoting, raw\n",
    "* printing\n",
    "\n",
    "Operators on strings\n",
    "* `+` and `*` operators on strings\n",
    "\n",
    "Examples:\n",
    "* given a variable `name` (that presumably contains someone's name)\n",
    "    write 2 (or more) ways to print out `\"The winner is <name>!\"` (with the actual name inserted where `<name>` appears)\n",
    "* print `\"hello \"` 100 times"
   ]
  },
  {
   "cell_type": "code",
   "execution_count": 50,
   "metadata": {},
   "outputs": [
    {
     "data": {
      "text/plain": [
       "str"
      ]
     },
     "execution_count": 50,
     "metadata": {},
     "output_type": "execute_result"
    }
   ],
   "source": [
    "s = \"this is a string\"\n",
    "type(s)"
   ]
  },
  {
   "cell_type": "code",
   "execution_count": 51,
   "metadata": {},
   "outputs": [
    {
     "name": "stdout",
     "output_type": "stream",
     "text": [
      "this is a string\n"
     ]
    }
   ],
   "source": [
    "print(s)"
   ]
  },
  {
   "cell_type": "code",
   "execution_count": 57,
   "metadata": {},
   "outputs": [
    {
     "name": "stdout",
     "output_type": "stream",
     "text": [
      "Line 1\n",
      "    Line 2\n",
      "    Line 3\n",
      "Line A\n",
      "\tLine B\n",
      "\\n\n",
      "\\hello\n"
     ]
    }
   ],
   "source": [
    "# Triple-quotes to demark strings can contain newlines (and tabs)\n",
    "s = \"\"\"Line 1\n",
    "    Line 2\n",
    "    Line 3\"\"\"\n",
    "print(s)\n",
    "s = \"Line A\\n\\tLine B\"\n",
    "print(s)\n",
    "s = \"\\\\n\\n\\\\hello\"\n",
    "print(s)"
   ]
  },
  {
   "cell_type": "code",
   "execution_count": 1,
   "metadata": {
    "scrolled": true
   },
   "outputs": [
    {
     "data": {
      "text/plain": [
       "'hellohellohello'"
      ]
     },
     "execution_count": 1,
     "metadata": {},
     "output_type": "execute_result"
    }
   ],
   "source": [
    "\"hello\" * 3"
   ]
  },
  {
   "cell_type": "code",
   "execution_count": 2,
   "metadata": {},
   "outputs": [
    {
     "name": "stdout",
     "output_type": "stream",
     "text": [
      "The winner is John!\n"
     ]
    }
   ],
   "source": [
    "s = \"John\"\n",
    "print(\"The winner is \" + s + \"!\")"
   ]
  },
  {
   "cell_type": "markdown",
   "metadata": {},
   "source": [
    "### Indexing and slicing into strings\n",
    "\n",
    "Examples:\n",
    "* set the variable `x` to `\"The winner is Mary Jennings!\"`\n",
    "* what is the value of `x[0]`?\n",
    "* what is the value of `x[5]`?\n",
    "* what is the value `x[27]`?\n",
    "* what about `x[-1]` or `x[-2]`?\n",
    "* what about `x[28]` or `x[1000]`?\n",
    "* print out the winner's initials\n",
    "* print out the winner's full name\n",
    "* print out the winner's full name reversed\n",
    "* How many characters are in the string?\n",
    "* What happens when you do `x[2]='a'`?\n",
    "  - strings are **immutable** --- you cannot change them --- you have to make a new string if you want to make a change\n",
    "* Using slices of `x` and the `+` operation make a new string with Fernando Perez as the winner instead of Mary Jennings\n",
    "  - Fernando is super cool and you are using something that he created!"
   ]
  },
  {
   "cell_type": "code",
   "execution_count": 43,
   "metadata": {
    "scrolled": true
   },
   "outputs": [
    {
     "name": "stdout",
     "output_type": "stream",
     "text": [
      "x[0] = T\n",
      "x[5] = i\n",
      "x[27] = !\n",
      "x[-1] = !\n",
      "x[-2] = s\n",
      "M.J.\n",
      "Mary Jennings\n",
      "Mr enns\n",
      "sgninneJ yraM\n",
      "The winner is Fernando Perez\n",
      "y\n",
      "14\n",
      "M\n"
     ]
    }
   ],
   "source": [
    "x = \"The winner is Mary Jennings!\"\n",
    "print(\"x[0] = \" + x[0])\n",
    "print(\"x[5] = \" + x[5])\n",
    "print(\"x[27] = \" + x[27])\n",
    "# Negative numbers go from the back of the string\n",
    "print(\"x[-1] = \" + x[-1])\n",
    "print(\"x[-2] = \" + x[-2])\n",
    "# x[28] and x[1000] give an error that the index is out of range\n",
    "#print(\"x[28] = \" + x[28])\n",
    "#print(\"x[1000] = \" + x[1000])\n",
    "\n",
    "print(x[14] + \".\" + x[-9] + \".\")\n",
    "print(x[14:-1])\n",
    "\n",
    "# third number is the step\n",
    "# below prints every other letter\n",
    "print(x[14:27:2])\n",
    "\n",
    "\n",
    "print(x[-2:-15:-1])\n",
    "\n",
    "# Below line yields a type-error\n",
    "# x[2] = 'a'\n",
    "\n",
    "y = x[:-14] + \"Fernando Perez\"\n",
    "print(y)\n",
    "\n",
    "print(max(x))\n",
    "print(x.index(\"M\"))\n",
    "print(x[x.index(\"M\")])"
   ]
  },
  {
   "cell_type": "markdown",
   "metadata": {},
   "source": [
    "### Lists --- we need lists/arrays of data other than characters!\n",
    "\n",
    "* operations on a list --- a lot like strings --- indeed all sequences are very similar in Python by design\n",
    "* Where to find the documentation on strings, lists, etc.?   It is in the standard library reference under sequence types.  Go look!\n",
    "* Lists are **mutable** so that they can be efficiently grown and operated on (working with millions of things is easy and routine)\n",
    "\n",
    "Examples:\n",
    "* make a list with `'a'` in it 10 times\n",
    "* make a list with `'a'` in it 100 times --- lesson here!  U don't want to print big things!\n",
    "  - avoid printing in Juypyter (iPython) by assigning to a variable or appending a semicolon to the statement\n",
    "* assign to variable `y` a list with `'a'` in it 1,000,000 times \n",
    "  - you've finally done something you could not by hand!"
   ]
  },
  {
   "cell_type": "code",
   "execution_count": 52,
   "metadata": {
    "scrolled": true
   },
   "outputs": [
    {
     "name": "stdout",
     "output_type": "stream",
     "text": [
      "['a', 'a', 'a', 'a', 'a', 'a', 'a', 'a', 'a', 'a']\n",
      "['a', 'd', 'a', 'a', 'a', 'a', 'a', 'a', 'a', 'a']\n",
      "['a', 'd', 'a', 'a', 'a', 'a', 'a', 'a', 'a', 'a', 2, 3]\n",
      "['a', 'd', 'a', 'a', 'a', 'a', 'a', 'a', 'a', 'a', [4, 5, 6]]\n"
     ]
    },
    {
     "data": {
      "text/plain": [
       "['a', 'd', 8, 'a', 'a', 'a', 'a', [4, 5, 6]]"
      ]
     },
     "execution_count": 52,
     "metadata": {},
     "output_type": "execute_result"
    }
   ],
   "source": [
    "# l = ['a' for i in range(10)]\n",
    "l = ['a']*10\n",
    "print(l)\n",
    "ll = l*10\n",
    "# print(ll)\n",
    "y = ll*10000;\n",
    "\n",
    "l[1] = 'd'\n",
    "print(l)\n",
    "print(l + [2,3])\n",
    "l.append([4,5,6])\n",
    "print(l)\n",
    "# Below line yields an error: when assigning to a range,\n",
    "# item getting assigned must be iterable\n",
    "# l[2:6] = 8\n",
    "l[2:6] = [8]\n",
    "l"
   ]
  },
  {
   "cell_type": "markdown",
   "metadata": {},
   "source": [
    "### While loops simple example --- iteration and automation are central to programming\n",
    "\n",
    "Essence of a while loop: while not done keep working\n",
    "\n",
    "```\n",
    "    initialize the condition\n",
    "    while (the condition is true) do (work and update the condition)\n",
    "```\n",
    "\n",
    "Example:\n",
    "* print out all positive integers less than 7\n",
    "  - manual solution is `print(0,1,2,3,4,5,6)`\n",
    "  - but what if I had asked for integers less than 30,000 --- automation is essential\n",
    "  \n",
    "* do the above with a while loop --- logically we need to do the following\n",
    "```\n",
    "    set n to zero\n",
    "    while (n is less than 7) do (print n and add 1 to n)\n",
    "```\n",
    "Let's translate this into python:\n",
    "\n",
    "    (we will see much easier ways to do simple things like this, but\n",
    "    the point of this example is to understand iteration and associated\n",
    "    parts of Python)"
   ]
  },
  {
   "cell_type": "code",
   "execution_count": 58,
   "metadata": {
    "scrolled": true
   },
   "outputs": [
    {
     "name": "stdout",
     "output_type": "stream",
     "text": [
      "0\n",
      "1\n",
      "2\n",
      "3\n",
      "4\n",
      "5\n",
      "6\n",
      "out of loop\n",
      "1\n",
      "2\n",
      "3\n",
      "4\n",
      "5\n",
      "6\n",
      "7\n",
      "8\n",
      "9\n",
      "10\n",
      "11\n",
      "12\n",
      "13\n",
      "out of loop 91\n",
      "out of loop 91\n"
     ]
    }
   ],
   "source": [
    "n = 0\n",
    "while n < 7:\n",
    "    print(n)\n",
    "    n += 1\n",
    "print(\"out of loop\")"
   ]
  },
  {
   "cell_type": "markdown",
   "metadata": {},
   "source": [
    "Key points:\n",
    "1. translate the natural-language statement of the problem (print numbers less than 7) into an algorithm\n",
    "2. translate the algorithm into Python code\n",
    "3. don't forget to initialize the condition\n",
    "4. logical test (and other tests)\n",
    "5. `:` is Python's way of indicating a compound statement\n",
    "6. indentation indicates scope\n",
    "7. don't forget to increment your counter!  What would happen if we did not?\n",
    "\n",
    "Examples:\n",
    "* print out all positive integers the square of which is less than 100\n",
    "* print out all positive integers n such that their sum is less than 100\n",
    "* the fibbonaci example from the tutorial\n",
    "\n"
   ]
  },
  {
   "cell_type": "code",
   "execution_count": 55,
   "metadata": {
    "scrolled": true
   },
   "outputs": [
    {
     "name": "stdout",
     "output_type": "stream",
     "text": [
      "1\n",
      "4\n",
      "9\n",
      "16\n",
      "25\n",
      "36\n",
      "49\n",
      "64\n",
      "81\n"
     ]
    }
   ],
   "source": [
    "n = 1\n",
    "while (n**2 < 100):\n",
    "    print(n**2)\n",
    "    n += 1\n",
    "\n",
    "n = 0\n",
    "s = 0\n",
    "while s + n < 100:\n",
    "    n += 1\n",
    "    s += n\n",
    "    print(n)\n",
    "print(\"out of loop\", s)\n",
    "\n",
    "n = 0\n",
    "s = 0\n",
    "while True:\n",
    "    if s + n >= 100:\n",
    "        break\n",
    "    n += 1\n",
    "    s += n\n",
    "print(\"out of loop\", s)\n"
   ]
  },
  {
   "cell_type": "markdown",
   "metadata": {},
   "source": [
    "### Reading before the next class\n",
    "\n",
    "* very briefly peek at and bookmark these three valuable resources to be sure you can find them since you will be referring extensively to them\n",
    "  - tutorial: https://docs.python.org/3/tutorial/index.html\n",
    "  - language reference: https://docs.python.org/3/reference/index.html#reference-index\n",
    "  - standard libary: https://docs.python.org/3/library/index.html\n",
    "\n",
    "* **actually explore** the notebook documentation under help\n",
    "  - you won't understand everything yet (most people never need to)\n",
    "  - do the \"User Interface Tour\" --- it's really short\n",
    "  - look at the \"Keyboard Shortcuts\"\n",
    "  - look at the \"Notebook Help\"\n",
    "  - look at http://jupyter.readthedocs.io/en/latest\n",
    "\n",
    "*  **actually read** jupyter notebook definitive guide\n",
    "  - https://www.datacamp.com/community/tutorials/tutorial-jupyter-notebook\n",
    "  \n",
    "* **review** tutorial section 3 (we just did this)\n",
    "\n",
    "* **actually read** tutorial section 4 (skip 4.8), section 5, and sections 8.1 and 8.2\n",
    "\n",
    "* **reading means** actually typing in and trying to understand at least some of the code examples --- we will go through examples in class and will focus on your questions and problems\n",
    "* very briefly explore one or two of these online resources --- you can come back to them in more detail later, as needed.\n",
    "  - http://python.org\n",
    "  - http://jupyter.readthedocs.io/en/latest\n",
    "  - http://www.datacamp.com\n",
    "  - http://python-textbok.readthedocs.io/en/1.0\n",
    "  - http://python.swaroopch.com\n",
    "  - http://learnpython.org\n",
    "  - http://www.tutorialspoint.com/python/index.htm\n",
    "  - http://anaconda.org/ijstokes/python4science/notebook\n",
    "  - http://thepythonguru.com/\n",
    "\n"
   ]
  },
  {
   "cell_type": "code",
   "execution_count": null,
   "metadata": {
    "collapsed": true,
    "scrolled": true
   },
   "outputs": [],
   "source": []
  }
 ],
 "metadata": {
  "anaconda-cloud": {},
  "kernelspec": {
   "display_name": "Python 3 (ipykernel)",
   "language": "python",
   "name": "python3"
  },
  "language_info": {
   "codemirror_mode": {
    "name": "ipython",
    "version": 3
   },
   "file_extension": ".py",
   "mimetype": "text/x-python",
   "name": "python",
   "nbconvert_exporter": "python",
   "pygments_lexer": "ipython3",
   "version": "3.9.7"
  }
 },
 "nbformat": 4,
 "nbformat_minor": 1
}
